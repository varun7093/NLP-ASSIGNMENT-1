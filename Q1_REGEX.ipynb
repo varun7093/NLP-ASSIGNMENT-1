{
  "nbformat": 4,
  "nbformat_minor": 0,
  "metadata": {
    "colab": {
      "provenance": []
    },
    "kernelspec": {
      "name": "python3",
      "display_name": "Python 3"
    },
    "language_info": {
      "name": "python"
    }
  },
  "cells": [
    {
      "cell_type": "code",
      "execution_count": 1,
      "metadata": {
        "colab": {
          "base_uri": "https://localhost:8080/"
        },
        "id": "6Pcg7_wcz-SX",
        "outputId": "6a7b1b98-b85f-4e8f-ffcb-5e36f90318dd"
      },
      "outputs": [
        {
          "output_type": "stream",
          "name": "stdout",
          "text": [
            "ZIP: ['12345', '12345-6789', '12345 6789']\n",
            "Non-capitalized words: ['dog', 'don’t', 'state-of-the-art']\n",
            "Numbers: ['123', '+123.45', '-1,234', '1.23e-4', '12,345,678.90e+10']\n",
            "Email variants: ['email', 'E-mail', 'e mail', 'E–mail']\n",
            "Go variants: ['go', 'goo', 'gooo', 'go', 'gooo']\n",
            "Questions: ['Is this working?', 'What time is it?\") ', \"Really?'\"]\n"
          ]
        }
      ],
      "source": [
        "import re\n",
        "\n",
        "# 1. U.S. ZIP codes\n",
        "zip_pattern = re.compile(r\"\\b\\d{5}(?:[-\\s]\\d{4})?\\b\")\n",
        "zip_tests = [\"12345\", \"12345-6789\", \"12345 6789\", \"123456\", \"abc12345\"]\n",
        "print(\"ZIP:\", [m.group() for t in zip_tests for m in zip_pattern.finditer(t)])\n",
        "\n",
        "# 2. Words not starting with a capital letter\n",
        "word_pattern = re.compile(r\"\\b(?![A-Z])[A-Za-z]+(?:['’-][A-Za-z]+)*\\b\")\n",
        "word_tests = [\"dog\", \"Cat\", \"don’t\", \"state-of-the-art\", \"Hello\"]\n",
        "print(\"Non-capitalized words:\", [m.group() for t in word_tests for m in word_pattern.finditer(t)])\n",
        "\n",
        "# 3. Numbers (signs, commas, decimals, scientific notation)\n",
        "num_pattern = re.compile(r\"[+-]?(?:\\d{1,3}(?:,\\d{3})*|\\d+)(?:\\.\\d+)?(?:[eE][+-]?\\d+)?\")\n",
        "num_tests = [\"123\", \"+123.45\", \"-1,234\", \"1.23e-4\", \"12,345,678.90e+10\"]\n",
        "print(\"Numbers:\", [m.group() for t in num_tests for m in num_pattern.finditer(t)])\n",
        "\n",
        "# 4. Email spelling variants\n",
        "email_pattern = re.compile(r\"(?i)\\be[-\\s–]?mail\\b\")\n",
        "email_tests = [\"email\", \"E-mail\", \"e mail\", \"E–mail\", \"Mail\"]\n",
        "print(\"Email variants:\", [m.group() for t in email_tests for m in email_pattern.finditer(t)])\n",
        "\n",
        "# 5. Interjection go/goo/gooo... with optional punctuation\n",
        "go_pattern = re.compile(r\"\\bgo+[\\!\\.\\,\\?]?\\b\")\n",
        "go_tests = [\"go\", \"goo\", \"gooo!\", \"go?\", \"gone\", \"gooo,\"]\n",
        "print(\"Go variants:\", [m.group() for t in go_tests for m in go_pattern.finditer(t)])\n",
        "# 6. Lines ending with question mark + optional closing symbols\n",
        "q_pattern = re.compile(r\"\\?[)\\\"'\\]\\s]*$\")\n",
        "q_tests = [\n",
        "    \"Is this working?\",\n",
        "    \"What time is it?\\\") \",\n",
        "    \"Really?'\",\n",
        "    \"No way!\",\n",
        "]\n",
        "print(\"Questions:\", [t for t in q_tests if q_pattern.search(t)])"
      ]
    }
  ]
}